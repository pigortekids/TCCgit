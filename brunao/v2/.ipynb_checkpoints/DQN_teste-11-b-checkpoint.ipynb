{
 "cells": [
  {
   "cell_type": "code",
   "execution_count": 1,
   "metadata": {},
   "outputs": [
    {
     "name": "stderr",
     "output_type": "stream",
     "text": [
      "Using TensorFlow backend.\n"
     ]
    }
   ],
   "source": [
    "#################################### IMPORTS ###################################################\n",
    "import numpy as np\n",
    "import pandas as pd\n",
    "import matplotlib.pyplot as plt\n",
    "import random\n",
    "import tensorflow as tf\n",
    "import datetime\n",
    "from keras.backend.tensorflow_backend import set_session"
   ]
  },
  {
   "cell_type": "code",
   "execution_count": 2,
   "metadata": {},
   "outputs": [],
   "source": [
    "##################### INICIALIZACAO DE VARIAVEIS ################################################\n",
    "index_arquivo = ['preco', 'hr_int', 'preco_pon', 'qnt_soma']#, 'max', 'min', 'IND', 'ISP'] #index do arquivo\n",
    "steps = [] # 9h04 -> 17h50 a cada 5 segundos \n",
    "epocas = 1000 #quantidade de vezes que vai rodar todos os dias\n",
    "janela = 10 #janela de valores\n",
    "n_variaveis = len(index_arquivo) #'preco', 'hr_int', 'preco_pon', 'qnt_soma', 'max', 'min', 'IND', 'ISP'\n",
    "l = n_variaveis-1\n",
    "tam_janela = n_variaveis*janela\n",
    "n_entradas = n_variaveis * janela + 2 #ncont, valor e inputs\n",
    "n_neuronios = 216 #numero de neuronios da camada escondida\n",
    "lim_cont = 5\n",
    "n_saidas = 2*lim_cont+1   #numero de saidas da rede (compra, vende, segura)\n",
    "custo = 1.06/2 #custo da operao\n",
    "melhor_reward = 0\n",
    "\n",
    "versao_arquivo = 2\n",
    "\n",
    "carregar_pesos = False\n",
    "carregar_epoca_epsilon = False\n",
    "epoca_init = 0\n",
    "if carregar_epoca_epsilon:\n",
    "    file = open(\"./epoca_epsilon.txt\", \"r\")\n",
    "    valores = file.read().split(',')\n",
    "    epoca_init = int(valores[0])\n",
    "    epsilon = float(valores[1])\n",
    "    file.close()\n",
    "else:\n",
    "    epsilon = 1. #valor de epsilon\n",
    "epsilon_min = 0.01 #valor minimo de epsilon\n",
    "epsilon_decay = (epsilon - epsilon_min) / (epocas - epoca_init) #o valor que vai retirado do epsilon por epoca\n",
    "\n",
    "rewards = [0] #variavel para guardar rewards\n",
    "plotx = [0] #variavel para guardar valores a serem plotados do eixo x"
   ]
  },
  {
   "cell_type": "code",
   "execution_count": 3,
   "metadata": {
    "scrolled": true
   },
   "outputs": [
    {
     "name": "stderr",
     "output_type": "stream",
     "text": [
      "D:\\anaconda\\lib\\site-packages\\ipykernel_launcher.py:35: SettingWithCopyWarning: \n",
      "A value is trying to be set on a copy of a slice from a DataFrame.\n",
      "Try using .loc[row_indexer,col_indexer] = value instead\n",
      "\n",
      "See the caveats in the documentation: http://pandas.pydata.org/pandas-docs/stable/indexing.html#indexing-view-versus-copy\n",
      "D:\\anaconda\\lib\\site-packages\\pandas\\core\\indexing.py:635: SettingWithCopyWarning: \n",
      "A value is trying to be set on a copy of a slice from a DataFrame.\n",
      "Try using .loc[row_indexer,col_indexer] = value instead\n",
      "\n",
      "See the caveats in the documentation: http://pandas.pydata.org/pandas-docs/stable/indexing.html#indexing-view-versus-copy\n",
      "  self.obj[item_labels[indexer[info_axis]]] = value\n"
     ]
    }
   ],
   "source": [
    "####################### LEITURA DOS DADOS #######################################################\n",
    "dias = 5\n",
    "\n",
    "caminho_arquivo = ('./consolidado.csv')\n",
    "arquivo = pd.read_csv(caminho_arquivo) #le arquivo\n",
    "inputs = arquivo[index_arquivo]\n",
    "inputs_nao_norm = arquivo[index_arquivo]\n",
    "if versao_arquivo == 1: #se quiser usar apenas os dias com IND e ISP\n",
    "    inputs = inputs[inputs['IND'] != 0]\n",
    "    arquivo = arquivo[arquivo['IND'] != 0]\n",
    "\n",
    "dt = arquivo['dt'].values #cria coluna apenas dos dias\n",
    "\n",
    "steps = []\n",
    "ultimo_dia = 0\n",
    "dias_para_rodar = [] #variavel para colocar os dias a serem rodados\n",
    "j = 0\n",
    "hr = []\n",
    "h = 0\n",
    "n_steps = 106 #especifico pra 5min\n",
    "for i in range( 0, len(dt) ):    \n",
    "    if (dt[i] != ultimo_dia):\n",
    "        steps.append(i) #numero de linhas entre dias\n",
    "        ultimo_dia = dt[i]\n",
    "        dias_para_rodar.append(j) #numero do dia\n",
    "        j += 1\n",
    "        h = 0\n",
    "    hr.append(h)\n",
    "    h += 1\n",
    "step_max = np.amax(hr)\n",
    "batch = step_max + 1\n",
    "\n",
    "#normalizacao dos dados\n",
    "hr = hr/step_max\n",
    "inputs['hr_int'] = hr\n",
    "pmean = np.mean( inputs.loc[:dias*batch, inputs.columns[0]] ) #define valor minimo do preco  #step = 106\n",
    "pstd = np.std( inputs.loc[:dias*batch, inputs.columns[0]] ) #define valor maximo do preco\n",
    "for i in range( inputs.shape[1] ): #roda normalizo para todas as colunas\n",
    "    imean = np.mean( inputs.loc[:dias*batch, inputs.columns[i]] ) #pega valor maximo\n",
    "    istd = np.std( inputs.loc[:dias*batch, inputs.columns[i]] ) #pega valor minimo\n",
    "    \n",
    "    inputs.loc[:, inputs.columns[i]] = ( inputs.loc[:, inputs.columns[i]] - imean ) / istd #normaliza prs\n",
    "    \n",
    "mini_batch_size = int(dias*batch*0.1)"
   ]
  },
  {
   "cell_type": "code",
   "execution_count": 4,
   "metadata": {},
   "outputs": [
    {
     "name": "stdout",
     "output_type": "stream",
     "text": [
      "Model: \"sequential_1\"\n",
      "_________________________________________________________________\n",
      "Layer (type)                 Output Shape              Param #   \n",
      "=================================================================\n",
      "dense_1 (Dense)              (None, 512)               3072      \n",
      "_________________________________________________________________\n",
      "dense_2 (Dense)              (None, 256)               131328    \n",
      "_________________________________________________________________\n",
      "dense_3 (Dense)              (None, 128)               32896     \n",
      "_________________________________________________________________\n",
      "dense_4 (Dense)              (None, 64)                8256      \n",
      "_________________________________________________________________\n",
      "dense_5 (Dense)              (None, 32)                2080      \n",
      "_________________________________________________________________\n",
      "dense_6 (Dense)              (None, 11)                363       \n",
      "=================================================================\n",
      "Total params: 177,995\n",
      "Trainable params: 177,995\n",
      "Non-trainable params: 0\n",
      "_________________________________________________________________\n"
     ]
    }
   ],
   "source": [
    "########################################   BIBLIOTECAS ####################################\n",
    "import random\n",
    "import numpy as np\n",
    "from keras.models import Sequential\n",
    "from keras.layers import Dense\n",
    "from keras import optimizers\n",
    "from keras import backend as K            #importa backend para clear_session()\n",
    "\n",
    "\n",
    "##################### MODELO DQN ####################################################\n",
    "class DQNAgent:\n",
    "    ########################### INICIALIZA ###########################################\n",
    "    def __init__(self, state_size, action_size, epsilon, janela, n_neuronios, n_variaveis):\n",
    "        self.state_size = 5\n",
    "        self.action_size = action_size\n",
    "        self.janela = janela\n",
    "        self.n_variaveis = n_variaveis\n",
    "        self.limpa_memoria_dia()\n",
    "        self.limpa_memoria_epoca()\n",
    "        self.gamma = 0.98     # discount rate\n",
    "        self.epsilon = epsilon  # exploration rate\n",
    "        self.learning_rate = 1e-4\n",
    "        self.model = self.cria_modelo()\n",
    "        self.model.summary()\n",
    "        self.state = []\n",
    "        self.next_state = []\n",
    "        self.janela_precos = []\n",
    "        self.prox_janela_precos = []\n",
    "\n",
    "################################# REDE NEURAL ###########################################\n",
    "    def cria_modelo(self):\n",
    "        # Neural Net for Deep-Q learning Model\n",
    "        model = Sequential()\n",
    "        \"\"\"\n",
    "        model.add(Dense(self.n_neuronios, input_dim=self.state_size, activation='relu')) #camada de entrada (escondida)\n",
    "        model.add(Dense(self.n_neuronios, activation='relu')) #camada escondida\n",
    "        model.add(Dense(self.n_neuronios, activation='relu')) #camada escondida\n",
    "        model.add(Dense(self.action_size, activation='softmax')) #camada de saida\n",
    "        model.compile(loss='categorical_crossentropy', optimizer=tf.train.AdamOptimizer(learning_rate=self.learning_rate)) #compilador\n",
    "        \"\"\"\n",
    "        model.add(Dense(512, input_dim=self.state_size, activation='relu')) #camada de entrada (escondida)\n",
    "        model.add(Dense(256, input_dim=self.state_size, activation='relu')) #camada de entrada (escondida)\n",
    "        model.add(Dense(128, input_dim=self.state_size, activation='relu')) #camada de entrada (escondida)\n",
    "        model.add(Dense(64, input_dim=self.state_size, activation='relu')) #camada de entrada (escondida)\n",
    "        model.add(Dense(32, input_dim=self.state_size, activation='relu')) #camada de entrada (escondida)\n",
    "        #model.add(Dense(128, input_dim=self.state_size, activation='relu')) #camada de entrada (escondida)\n",
    "        #model.add(Dense(x*3, activation='relu')) #camada escondida\n",
    "        #model.add(Dense(x*2, activation='relu')) #camada escondida\n",
    "        #model.add(Dense(x, activation='relu')) #camada escondida\n",
    "        #model.add(Dense(64, activation='relu')) #camada escondida\n",
    "        model.add(Dense(self.action_size, activation='linear')) #camada de saida\n",
    "        model.compile(loss='mse', optimizer=tf.train.AdamOptimizer(learning_rate=self.learning_rate)) #compilador\n",
    "        #sgd = optimizers.SGD(lr=self.learning_rate, decay=1e-6, momentum=0.9, nesterov=True)\n",
    "        #model.compile(loss='mse', optimizer=sgd)\n",
    "        return model\n",
    "\n",
    "    def limpa_memoria_dia(self):\n",
    "        self.janela_precos = np.zeros(n_variaveis*janela)\n",
    "        self.prox_janela_precos = np.zeros(n_variaveis*janela)\n",
    "        self.state = []\n",
    "        self.next_state = []\n",
    "    \n",
    "    def limpa_memoria_epoca(self):\n",
    "        self.memory = []\n",
    "        \n",
    "    def toma_acao(self):\n",
    "        if np.random.rand() <= self.epsilon: #se o numero aleatorio for menor que o epsilon\n",
    "            return random.randrange(self.action_size) #retorna acao aleatoria     \n",
    "        act_values = self.model.predict(self.state) #calcula qual a melhor acao\n",
    "        return np.argmax(act_values[0])  # returns action\n",
    "    \n",
    "    def treina_modelo(self, batch_size=mini_batch_size):\n",
    "        minibatch = random.sample(self.memory, batch_size) if dias>5 else self.memory\n",
    "        \n",
    "        x = []\n",
    "        y = []\n",
    "        for acao, reward, estado, prox_estado, done in minibatch:        \n",
    "            \n",
    "            target = reward\n",
    "            if not done:\n",
    "                target = (reward + self.gamma * np.amax(self.model.predict(prox_estado)[0])) #pega valor que quer chegar\n",
    "            \n",
    "            target_f = self.model.predict(estado) \n",
    "            target_f[0][acao+lim_cont] = target #define o valor que deseja chegar\n",
    "            x.append(estado[0])\n",
    "            y.append(target_f[0])\n",
    "            \n",
    "        self.model.fit(np.asarray(x), np.asarray(y), epochs=1, verbose=0) #treina modelo\n",
    "        \n",
    "    def tira_ultima_janela(self):\n",
    "        if self.janela_precos.shape[0] > self.janela * self.n_variaveis:\n",
    "            self.janela_precos = self.janela_precos[self.n_variaveis:] #tira os ultimos precos\n",
    "    \n",
    "    def remember(self, acao, reward, done):\n",
    "        self.memory.append((acao, reward, self.state, self.next_state, done))\n",
    "    \n",
    "    def carrega_pesos(self, name):\n",
    "        self.model.load_weights(name) #carrega pesos\n",
    "\n",
    "    def salva_pesos(self, name):\n",
    "        self.model.save_weights(name) #salva pesos\n",
    "                \n",
    "########################  DECLARA MODELO ################################\n",
    "modelo = DQNAgent(n_entradas, n_saidas, epsilon, janela, n_neuronios, n_variaveis)"
   ]
  },
  {
   "cell_type": "code",
   "execution_count": 17,
   "metadata": {},
   "outputs": [],
   "source": [
    "########################### FUNCOES ###############################################################\n",
    "\n",
    "def atuacao( preco, ncont, acao, custo, valor ):  #preo atual, n de contratos posicionados,\n",
    "                                                #acaoo atual, custo, valor da posio\n",
    "    preco_cheio = 0.\n",
    "    valor_cheio = 0.\n",
    "    ncont_anterior = ncont #salva posio anterior\n",
    "    ncont = acao #posicao atual = acao\n",
    "    reward = 0.\n",
    "    posicao = 0.\n",
    "    dp = 0.\n",
    "\n",
    "    \n",
    "    #variaveis para tratamento do sinal de ncont, ncont_anterior e da acao\n",
    "    acao = ncont - ncont_anterior  #ajuda a manter as condições anteriores\n",
    "    var1 = ncont*ncont_anterior\n",
    "    var2 = ncont*acao\n",
    "\n",
    "    if acao != 0:\n",
    "        #realizacao de lucros e custos\n",
    "        if ((var2>0) and (var1>=0)):\n",
    "            #aumento da posicao\n",
    "            reward = -custo*abs(acao)    #reward = -custo*acao se houve operacao (aumento da posicao)\n",
    "            #aumento da posicao = preco medio:\n",
    "            valor = (ncont_anterior*valor + acao*preco)/ncont  \n",
    "            \n",
    "        else:\n",
    "            valor_cheio = valor * pstd + pmean  #valores nao normalizados\n",
    "            preco_cheio = preco * pstd + pmean\n",
    "            if (var1)>= 0:\n",
    "                #diminuicao da posicao\n",
    "                reward = acao*(valor_cheio - preco_cheio)*10 - custo*abs(acao)  #reward se houve diminuicao da posicao\n",
    "                #valor medio nao muda na diminuicao, somente se ncont==0:\n",
    "                if ncont==0: valor=-10\n",
    "                    \n",
    "            else:\n",
    "                #troca de posicao\n",
    "                reward = (-ncont_anterior)*(valor_cheio - preco_cheio)*10 - custo*abs(acao)  #reward se houve troca da posicao\n",
    "                #preco medio da posicao = preco da troca de posicao\n",
    "                valor = preco\n",
    "    \n",
    "    #definindo o lucro potencial da carteira(posicao)\n",
    "    if valor!=-10:\n",
    "        valor_cheio = valor * pstd + pmean  #valor posicionado atual      \n",
    "        dp = (preco * pstd + pmean) - valor_cheio #variacao do preco atual e do preco de compra/venda\n",
    "        posicao = ncont * dp * 10 - custo*abs(ncont)           #posicao = lucro (POTENCIAL)\n",
    "        \n",
    "    return ncont, valor, posicao, reward\n",
    "\n",
    "def teste(preco, ncont, acao, valor, custo=0):   \n",
    "\n",
    "    if acao == 0: #zerado\n",
    "        if ncont>0:  #zerando\n",
    "            reward = ncont*(preco-valor) -custo*abs(ncont)\n",
    "        elif ncont<0: #zerando\n",
    "            reward = ncont*(preco-valor) -custo*abs(ncont)\n",
    "        else:         \n",
    "            reward = 0\n",
    "        valor = -100\n",
    "    elif acao>0:  #comprado\n",
    "        if ncont>0:\n",
    "            if acao>ncont: #aumento da posicao\n",
    "                reward = -custo*(acao-ncont)\n",
    "                valor = (valor*ncont+(acao-ncont)*preco)/(acao)  #calculo preco medio\n",
    "            elif acao<ncont:  #diminuicao da posicao\n",
    "                reward = (ncont-acao)*(preco-valor) -custo*(ncont-acao)\n",
    "                valor = valor #preco medio se mantem\n",
    "            else:\n",
    "                reward = 0\n",
    "        elif ncont<0:   #trocando a mao\n",
    "            reward = abs(ncont)*(valor-preco) -custo*(acao+abs(ncont))\n",
    "            valor = preco\n",
    "        else:          #saiu do zero\n",
    "            reward = -custo*abs(acao)\n",
    "            valor = preco\n",
    "    else:       #vendido\n",
    "        if ncont>0:#trocando a mao\n",
    "            reward = ncont*(preco-valor) -custo*(ncont+abs(acao))\n",
    "            valor = preco\n",
    "        elif ncont<0:\n",
    "            if abs(acao)<abs(ncont): #diminuicao da posicao\n",
    "                reward = (abs(ncont)-abs(acao))*(valor-preco) -custo*(abs(ncont)-abs(acao))\n",
    "                valor = valor #preco medio se mantem\n",
    "            elif abs(acao)>abs(ncont): #aumento da posicao\n",
    "                reward = -custo*(abs(acao)-abs(ncont))\n",
    "                valor = (valor*abs(ncont)+(abs(acao)-abs(ncont))*preco)/(abs(acao))  #calculo preco medio\n",
    "            else: #preco medio se mantem\n",
    "                reward = 0\n",
    "        else:  #saiu do zero\n",
    "            reward = -custo*abs(acao)\n",
    "            valor = preco\n",
    "                \n",
    "    #reward = ncont*acao*preco\n",
    "    ncont = acao\n",
    "    posicao = ncont*(preco-valor) -custo*abs(ncont) if ncont!=0 else 0.\n",
    "    return ncont, reward, valor, posicao\n",
    "\n",
    "def obter_acao():\n",
    "    decisao = modelo.toma_acao() #calcula a saida da rede neural\n",
    "    return (decisao - lim_cont)\n",
    "\n",
    "def rodar_1dia(precos, custo, dia):\n",
    "    global melhor_reward\n",
    "    ncont = 0 #cria variavel de quantidade de contratos\n",
    "    ncont_anterior = 0 #cria variavel para quantidade de contratos anterior\n",
    "    valor = -100 #cria variavel para preo medio\n",
    "    reward = 0. #cria variavel para recompensa\n",
    "    indice = 0\n",
    "    lucro = 0.\n",
    "    posicao = 0. #cria variavel de posicao \n",
    "    erro = []\n",
    "    modelo.limpa_memoria_dia() #limpa o vetor de memoria\n",
    "    done = False\n",
    "    posicao_max = 1e4\n",
    "    shp = modelo.janela_precos.shape\n",
    "    \n",
    "    for step in range( steps[dia], steps[dia+1] ):  #roda os dados\n",
    "        \n",
    "        modelo.state = np.reshape([ncont/lim_cont, indice/step_max, precos['preco'][step], valor, precos['preco_pon'][step]], (1,modelo.state_size))\n",
    "        \n",
    "        acao = obter_acao()\n",
    "        ncont, reward, valor, posicao = teste(precos['preco'][step], ncont, acao, valor)\n",
    "        \n",
    "        #pos acao\n",
    "        lucro += reward    #LUCRO ACUMULADO\n",
    "        \n",
    "        #v=valor*pstd+pmean if valor!=-100 else 0\n",
    "        #p=precos['preco'][step]*pstd+pmean\n",
    "        #print(\"acao={0}; ncont={1}; reward={2} valor={3} preco={4}\".format(acao, ncont, reward, valor, precos['preco'][step]))   \n",
    "\n",
    "        if step == (steps[dia+1] - 1): #se ultimo step do dia\n",
    "            done = True     \n",
    "        \n",
    "        modelo.next_state = np.reshape([ncont/lim_cont, (indice+1)/step_max, precos['preco'][step+1], valor, precos['preco_pon'][step+1]], (1,modelo.state_size))\n",
    "        modelo.remember(acao, posicao, done)  #salva step na memoria - reward = lucro instantaneo que a ação gerou\n",
    "        indice += 1\n",
    "        \n",
    "    #fim do dia\n",
    "    lucro +=posicao\n",
    "    \n",
    "    #print(\"ncont zerados={0}; posicao={1}\".format(ncont, posicao))\n",
    "    if lucro > melhor_reward:\n",
    "        melhor_reward = lucro\n",
    "    return lucro #retorna o valor do reward\n",
    "\n",
    "dias_pos = 0\n",
    "dias_neg = 0\n",
    "\n",
    "def rodar_dias(precos, custo, dia_inicio, n_dias):   \n",
    "    global dias_pos\n",
    "    global dias_neg\n",
    "    sum_rewards = 0 #cria variavel de somatoria de recompensas\n",
    "    \n",
    "    for dia in range( dia_inicio, dia_inicio+n_dias ): #loop de dias\n",
    "        reward = rodar_1dia(precos, custo, dia)\n",
    "        sum_rewards += reward #roda 1 dia e adiciona o total na variavel de somatoria\n",
    "        \n",
    "        if reward>0: \n",
    "            dias_pos += 1\n",
    "        elif reward<0:\n",
    "            dias_neg += 1\n",
    "    return sum_rewards\n",
    "\n",
    "indic = 0\n",
    "\n",
    "def train_teste(batch_size=10):\n",
    "        \n",
    "        minibatch = random.sample(modelo.memory, batch_size) if dias>5 else modelo.memory\n",
    "        \n",
    "        x = []\n",
    "        y = []\n",
    "        for acao, reward, estado, prox_estado, done in minibatch:        \n",
    "            target = reward\n",
    "            if not done:\n",
    "                target = (reward + modelo.gamma * np.amax(modelo.model.predict(prox_estado)[0])) #pega valor que quer chegar\n",
    "            \n",
    "            target_f = modelo.model.predict(estado)\n",
    "            target_f[0][acao+lim_cont] = target #define o valor que deseja chegar\n",
    "            x.append(estado[0])\n",
    "            y.append(target_f[0])\n",
    "        \n",
    "        modelo.model.fit(np.asarray(x), np.asarray(y), epochs=1, verbose=0) #treina modelo"
   ]
  },
  {
   "cell_type": "code",
   "execution_count": 14,
   "metadata": {
    "scrolled": true
   },
   "outputs": [
    {
     "name": "stdout",
     "output_type": "stream",
     "text": [
      "resultado da epoca 0 = -10.45 Epsilon = 1.000\n",
      "resultado da epoca 1 = -4.36 Epsilon = 0.999\n",
      "resultado da epoca 2 = -5.72 Epsilon = 0.998\n",
      "resultado da epoca 3 = -12.17 Epsilon = 0.997\n",
      "Melhor resultado diario: 8.72\n"
     ]
    },
    {
     "ename": "KeyboardInterrupt",
     "evalue": "",
     "output_type": "error",
     "traceback": [
      "\u001b[1;31m---------------------------------------------------------------------------\u001b[0m",
      "\u001b[1;31mKeyboardInterrupt\u001b[0m                         Traceback (most recent call last)",
      "\u001b[1;32m<ipython-input-14-00fe7d86025c>\u001b[0m in \u001b[0;36m<module>\u001b[1;34m\u001b[0m\n\u001b[0;32m     15\u001b[0m             \u001b[0mmodelo\u001b[0m\u001b[1;33m.\u001b[0m\u001b[0mlimpa_memoria_epoca\u001b[0m\u001b[1;33m(\u001b[0m\u001b[1;33m)\u001b[0m\u001b[1;33m\u001b[0m\u001b[1;33m\u001b[0m\u001b[0m\n\u001b[0;32m     16\u001b[0m             \u001b[0msum_rewards\u001b[0m \u001b[1;33m=\u001b[0m \u001b[0mrodar_dias\u001b[0m\u001b[1;33m(\u001b[0m\u001b[0minputs\u001b[0m\u001b[1;33m,\u001b[0m \u001b[0mcusto\u001b[0m\u001b[1;33m,\u001b[0m \u001b[1;36m0\u001b[0m\u001b[1;33m,\u001b[0m \u001b[0mdias\u001b[0m\u001b[1;33m)\u001b[0m \u001b[1;31m#adiciona o resultado da epoca na somatoria\u001b[0m\u001b[1;33m\u001b[0m\u001b[1;33m\u001b[0m\u001b[0m\n\u001b[1;32m---> 17\u001b[1;33m             \u001b[0mtrain_teste\u001b[0m\u001b[1;33m(\u001b[0m\u001b[1;33m)\u001b[0m \u001b[1;31m#roda o modelo com toda a memoria da epoca\u001b[0m\u001b[1;33m\u001b[0m\u001b[1;33m\u001b[0m\u001b[0m\n\u001b[0m\u001b[0;32m     18\u001b[0m             \u001b[0msr\u001b[0m\u001b[1;33m.\u001b[0m\u001b[0mappend\u001b[0m\u001b[1;33m(\u001b[0m\u001b[0msum_rewards\u001b[0m\u001b[1;33m)\u001b[0m\u001b[1;33m\u001b[0m\u001b[1;33m\u001b[0m\u001b[0m\n\u001b[0;32m     19\u001b[0m             \u001b[0mprint\u001b[0m\u001b[1;33m(\u001b[0m\u001b[1;34m\"resultado da epoca {0} = {1:0.2f} Epsilon = {2:0.3f}\"\u001b[0m\u001b[1;33m.\u001b[0m\u001b[0mformat\u001b[0m\u001b[1;33m(\u001b[0m\u001b[0mepoca\u001b[0m\u001b[1;33m,\u001b[0m \u001b[0msum_rewards\u001b[0m\u001b[1;33m,\u001b[0m \u001b[0mmodelo\u001b[0m\u001b[1;33m.\u001b[0m\u001b[0mepsilon\u001b[0m\u001b[1;33m)\u001b[0m\u001b[1;33m)\u001b[0m\u001b[1;33m\u001b[0m\u001b[1;33m\u001b[0m\u001b[0m\n",
      "\u001b[1;32m<ipython-input-13-ff7d0a8d3fad>\u001b[0m in \u001b[0;36mtrain_teste\u001b[1;34m(batch_size)\u001b[0m\n\u001b[0;32m    175\u001b[0m                 \u001b[0mtarget\u001b[0m \u001b[1;33m=\u001b[0m \u001b[1;33m(\u001b[0m\u001b[0mreward\u001b[0m \u001b[1;33m+\u001b[0m \u001b[0mmodelo\u001b[0m\u001b[1;33m.\u001b[0m\u001b[0mgamma\u001b[0m \u001b[1;33m*\u001b[0m \u001b[0mnp\u001b[0m\u001b[1;33m.\u001b[0m\u001b[0mamax\u001b[0m\u001b[1;33m(\u001b[0m\u001b[0mmodelo\u001b[0m\u001b[1;33m.\u001b[0m\u001b[0mmodel\u001b[0m\u001b[1;33m.\u001b[0m\u001b[0mpredict\u001b[0m\u001b[1;33m(\u001b[0m\u001b[0mprox_estado\u001b[0m\u001b[1;33m)\u001b[0m\u001b[1;33m[\u001b[0m\u001b[1;36m0\u001b[0m\u001b[1;33m]\u001b[0m\u001b[1;33m)\u001b[0m\u001b[1;33m)\u001b[0m \u001b[1;31m#pega valor que quer chegar\u001b[0m\u001b[1;33m\u001b[0m\u001b[1;33m\u001b[0m\u001b[0m\n\u001b[0;32m    176\u001b[0m \u001b[1;33m\u001b[0m\u001b[0m\n\u001b[1;32m--> 177\u001b[1;33m             \u001b[0mtarget_f\u001b[0m \u001b[1;33m=\u001b[0m \u001b[0mmodelo\u001b[0m\u001b[1;33m.\u001b[0m\u001b[0mmodel\u001b[0m\u001b[1;33m.\u001b[0m\u001b[0mpredict\u001b[0m\u001b[1;33m(\u001b[0m\u001b[0mestado\u001b[0m\u001b[1;33m)\u001b[0m\u001b[1;33m\u001b[0m\u001b[1;33m\u001b[0m\u001b[0m\n\u001b[0m\u001b[0;32m    178\u001b[0m             \u001b[0mtarget_f\u001b[0m\u001b[1;33m[\u001b[0m\u001b[1;36m0\u001b[0m\u001b[1;33m]\u001b[0m\u001b[1;33m[\u001b[0m\u001b[0macao\u001b[0m\u001b[1;33m+\u001b[0m\u001b[0mlim_cont\u001b[0m\u001b[1;33m]\u001b[0m \u001b[1;33m=\u001b[0m \u001b[0mtarget\u001b[0m \u001b[1;31m#define o valor que deseja chegar\u001b[0m\u001b[1;33m\u001b[0m\u001b[1;33m\u001b[0m\u001b[0m\n\u001b[0;32m    179\u001b[0m             \u001b[0mx\u001b[0m\u001b[1;33m.\u001b[0m\u001b[0mappend\u001b[0m\u001b[1;33m(\u001b[0m\u001b[0mestado\u001b[0m\u001b[1;33m[\u001b[0m\u001b[1;36m0\u001b[0m\u001b[1;33m]\u001b[0m\u001b[1;33m)\u001b[0m\u001b[1;33m\u001b[0m\u001b[1;33m\u001b[0m\u001b[0m\n",
      "\u001b[1;32mD:\\anaconda\\lib\\site-packages\\keras\\engine\\training.py\u001b[0m in \u001b[0;36mpredict\u001b[1;34m(self, x, batch_size, verbose, steps, callbacks, max_queue_size, workers, use_multiprocessing)\u001b[0m\n\u001b[0;32m   1460\u001b[0m                                             \u001b[0mverbose\u001b[0m\u001b[1;33m=\u001b[0m\u001b[0mverbose\u001b[0m\u001b[1;33m,\u001b[0m\u001b[1;33m\u001b[0m\u001b[1;33m\u001b[0m\u001b[0m\n\u001b[0;32m   1461\u001b[0m                                             \u001b[0msteps\u001b[0m\u001b[1;33m=\u001b[0m\u001b[0msteps\u001b[0m\u001b[1;33m,\u001b[0m\u001b[1;33m\u001b[0m\u001b[1;33m\u001b[0m\u001b[0m\n\u001b[1;32m-> 1462\u001b[1;33m                                             callbacks=callbacks)\n\u001b[0m\u001b[0;32m   1463\u001b[0m \u001b[1;33m\u001b[0m\u001b[0m\n\u001b[0;32m   1464\u001b[0m     def train_on_batch(self, x, y,\n",
      "\u001b[1;32mD:\\anaconda\\lib\\site-packages\\keras\\engine\\training_arrays.py\u001b[0m in \u001b[0;36mpredict_loop\u001b[1;34m(model, f, ins, batch_size, verbose, steps, callbacks)\u001b[0m\n\u001b[0;32m    322\u001b[0m             \u001b[0mbatch_logs\u001b[0m \u001b[1;33m=\u001b[0m \u001b[1;33m{\u001b[0m\u001b[1;34m'batch'\u001b[0m\u001b[1;33m:\u001b[0m \u001b[0mbatch_index\u001b[0m\u001b[1;33m,\u001b[0m \u001b[1;34m'size'\u001b[0m\u001b[1;33m:\u001b[0m \u001b[0mlen\u001b[0m\u001b[1;33m(\u001b[0m\u001b[0mbatch_ids\u001b[0m\u001b[1;33m)\u001b[0m\u001b[1;33m}\u001b[0m\u001b[1;33m\u001b[0m\u001b[1;33m\u001b[0m\u001b[0m\n\u001b[0;32m    323\u001b[0m             \u001b[0mcallbacks\u001b[0m\u001b[1;33m.\u001b[0m\u001b[0m_call_batch_hook\u001b[0m\u001b[1;33m(\u001b[0m\u001b[1;34m'predict'\u001b[0m\u001b[1;33m,\u001b[0m \u001b[1;34m'begin'\u001b[0m\u001b[1;33m,\u001b[0m \u001b[0mbatch_index\u001b[0m\u001b[1;33m,\u001b[0m \u001b[0mbatch_logs\u001b[0m\u001b[1;33m)\u001b[0m\u001b[1;33m\u001b[0m\u001b[1;33m\u001b[0m\u001b[0m\n\u001b[1;32m--> 324\u001b[1;33m             \u001b[0mbatch_outs\u001b[0m \u001b[1;33m=\u001b[0m \u001b[0mf\u001b[0m\u001b[1;33m(\u001b[0m\u001b[0mins_batch\u001b[0m\u001b[1;33m)\u001b[0m\u001b[1;33m\u001b[0m\u001b[1;33m\u001b[0m\u001b[0m\n\u001b[0m\u001b[0;32m    325\u001b[0m             \u001b[0mbatch_outs\u001b[0m \u001b[1;33m=\u001b[0m \u001b[0mto_list\u001b[0m\u001b[1;33m(\u001b[0m\u001b[0mbatch_outs\u001b[0m\u001b[1;33m)\u001b[0m\u001b[1;33m\u001b[0m\u001b[1;33m\u001b[0m\u001b[0m\n\u001b[0;32m    326\u001b[0m             \u001b[1;32mif\u001b[0m \u001b[0mbatch_index\u001b[0m \u001b[1;33m==\u001b[0m \u001b[1;36m0\u001b[0m\u001b[1;33m:\u001b[0m\u001b[1;33m\u001b[0m\u001b[1;33m\u001b[0m\u001b[0m\n",
      "\u001b[1;32mD:\\anaconda\\lib\\site-packages\\tensorflow\\python\\keras\\backend.py\u001b[0m in \u001b[0;36m__call__\u001b[1;34m(self, inputs)\u001b[0m\n\u001b[0;32m   3290\u001b[0m \u001b[1;33m\u001b[0m\u001b[0m\n\u001b[0;32m   3291\u001b[0m     fetched = self._callable_fn(*array_vals,\n\u001b[1;32m-> 3292\u001b[1;33m                                 run_metadata=self.run_metadata)\n\u001b[0m\u001b[0;32m   3293\u001b[0m     \u001b[0mself\u001b[0m\u001b[1;33m.\u001b[0m\u001b[0m_call_fetch_callbacks\u001b[0m\u001b[1;33m(\u001b[0m\u001b[0mfetched\u001b[0m\u001b[1;33m[\u001b[0m\u001b[1;33m-\u001b[0m\u001b[0mlen\u001b[0m\u001b[1;33m(\u001b[0m\u001b[0mself\u001b[0m\u001b[1;33m.\u001b[0m\u001b[0m_fetches\u001b[0m\u001b[1;33m)\u001b[0m\u001b[1;33m:\u001b[0m\u001b[1;33m]\u001b[0m\u001b[1;33m)\u001b[0m\u001b[1;33m\u001b[0m\u001b[1;33m\u001b[0m\u001b[0m\n\u001b[0;32m   3294\u001b[0m     output_structure = nest.pack_sequence_as(\n",
      "\u001b[1;32mD:\\anaconda\\lib\\site-packages\\tensorflow\\python\\client\\session.py\u001b[0m in \u001b[0;36m__call__\u001b[1;34m(self, *args, **kwargs)\u001b[0m\n\u001b[0;32m   1456\u001b[0m         ret = tf_session.TF_SessionRunCallable(self._session._session,\n\u001b[0;32m   1457\u001b[0m                                                \u001b[0mself\u001b[0m\u001b[1;33m.\u001b[0m\u001b[0m_handle\u001b[0m\u001b[1;33m,\u001b[0m \u001b[0margs\u001b[0m\u001b[1;33m,\u001b[0m\u001b[1;33m\u001b[0m\u001b[1;33m\u001b[0m\u001b[0m\n\u001b[1;32m-> 1458\u001b[1;33m                                                run_metadata_ptr)\n\u001b[0m\u001b[0;32m   1459\u001b[0m         \u001b[1;32mif\u001b[0m \u001b[0mrun_metadata\u001b[0m\u001b[1;33m:\u001b[0m\u001b[1;33m\u001b[0m\u001b[1;33m\u001b[0m\u001b[0m\n\u001b[0;32m   1460\u001b[0m           \u001b[0mproto_data\u001b[0m \u001b[1;33m=\u001b[0m \u001b[0mtf_session\u001b[0m\u001b[1;33m.\u001b[0m\u001b[0mTF_GetBuffer\u001b[0m\u001b[1;33m(\u001b[0m\u001b[0mrun_metadata_ptr\u001b[0m\u001b[1;33m)\u001b[0m\u001b[1;33m\u001b[0m\u001b[1;33m\u001b[0m\u001b[0m\n",
      "\u001b[1;31mKeyboardInterrupt\u001b[0m: "
     ]
    },
    {
     "data": {
      "image/png": "[encoded data removed]",
      "text/plain": [
       "<Figure size 432x288 with 1 Axes>"
      ]
     },
     "metadata": {
      "needs_background": "light"
     },
     "output_type": "display_data"
    }
   ],
   "source": [
    "import time\n",
    "##################################  MAIN  #########################################\n",
    "if __name__ == \"__main__\":\n",
    "    global dias_pos\n",
    "    global dias_neg\n",
    "    modelo.epsilon = 1.\n",
    "    melhor_reward = 0\n",
    "    sr=[]\n",
    "    try:\n",
    "        if carregar_pesos:\n",
    "            modelo.carrega_pesos('./pesos.h5')\n",
    "            \n",
    "        epoca_parou = epoca_init\n",
    "        for epoca in range(epoca_init, epocas): #rodar uma quantidade de epocas\n",
    "            modelo.limpa_memoria_epoca()\n",
    "            sum_rewards = rodar_dias(inputs, custo, 0, dias) #adiciona o resultado da epoca na somatoria\n",
    "            train_teste() #roda o modelo com toda a memoria da epoca\n",
    "            sr.append(sum_rewards)\n",
    "            print(\"resultado da epoca {0} = {1:0.2f} Epsilon = {2:0.3f}\".format(epoca, sum_rewards, modelo.epsilon))\n",
    "            #print(dias_pos)\n",
    "            #print(dias_neg)\n",
    "            epoca_parou += 1\n",
    "            if ((epoca % 200) == 0):\n",
    "                modelo.salva_pesos('./pesos_5.h5')\n",
    "            dias_pos = 0\n",
    "            dias_neg = 0            \n",
    "            if modelo.epsilon <= epsilon_min:\n",
    "                modelo.epsilon = epsilon_min\n",
    "            else:\n",
    "                modelo.epsilon -= epsilon_decay\n",
    "    finally:\n",
    "        #print(dias_pos)\n",
    "        #print(dias_neg)\n",
    "        modelo.salva_pesos('./pesos_5.h5')\n",
    "        if carregar_epoca_epsilon:\n",
    "            file = open(\"./epoca_epsilon.txt\", \"w\")\n",
    "            file.writelines(\"{0},{1}\".format(epoca_parou, modelo.epsilon))\n",
    "            file.close()\n",
    "            print(\"parou na epoca {0} com epsilon {1}\".format(epoca_parou, modelo.epsilon))\n",
    "            \n",
    "        print(\"Melhor resultado diario: {0:0.2f}\".format(melhor_reward))\n",
    "        plt.plot(range(0, len(sr)), sr, range(0, len(sr)), np.zeros(len(sr))) #plota os valores de reward por epoca"
   ]
  },
  {
   "cell_type": "code",
   "execution_count": 15,
   "metadata": {},
   "outputs": [
    {
     "name": "stdout",
     "output_type": "stream",
     "text": [
      "31.28754341077091\n"
     ]
    }
   ],
   "source": [
    "#Validação do treino em cima dos dados treinados\n",
    "modelo.epsilon = 0\n",
    "print(rodar_dias(inputs, custo, 0, dias))"
   ]
  },
  {
   "cell_type": "code",
   "execution_count": 18,
   "metadata": {},
   "outputs": [
    {
     "name": "stdout",
     "output_type": "stream",
     "text": [
      "26.58244979674673\n"
     ]
    }
   ],
   "source": [
    "#Validação do treino em cima dos dados treinados\n",
    "modelo.epsilon = 0\n",
    "print(rodar_dias(inputs, custo, 80, 5))\n"
   ]
  },
  {
   "cell_type": "code",
   "execution_count": 9,
   "metadata": {},
   "outputs": [
    {
     "data": {
      "text/plain": [
       "[<matplotlib.lines.Line2D at 0x643bc50>]"
      ]
     },
     "execution_count": 9,
     "metadata": {},
     "output_type": "execute_result"
    },
    {
     "data": {
      "image/png": "[encoded data removed]",
      "text/plain": [
       "<Figure size 432x288 with 1 Axes>"
      ]
     },
     "metadata": {
      "needs_background": "light"
     },
     "output_type": "display_data"
    }
   ],
   "source": [
    "plt.plot(range(0,len(inputs)), inputs['preco'])"
   ]
  },
  {
   "cell_type": "code",
   "execution_count": 10,
   "metadata": {},
   "outputs": [
    {
     "data": {
      "text/plain": [
       "[<matplotlib.lines.Line2D at 0x64a92b0>]"
      ]
     },
     "execution_count": 10,
     "metadata": {},
     "output_type": "execute_result"
    },
    {
     "data": {
      "image/png": "[encoded data removed]",
      "text/plain": [
       "<Figure size 432x288 with 1 Axes>"
      ]
     },
     "metadata": {
      "needs_background": "light"
     },
     "output_type": "display_data"
    }
   ],
   "source": [
    "plt.plot(range(0,len(inputs_nao_norm)), inputs_nao_norm['preco'])"
   ]
  },
  {
   "cell_type": "code",
   "execution_count": 11,
   "metadata": {},
   "outputs": [
    {
     "data": {
      "text/plain": [
       "1445.9088594906061"
      ]
     },
     "execution_count": 11,
     "metadata": {},
     "output_type": "execute_result"
    }
   ],
   "source": [
    "7.6871599336160745*pstd*10"
   ]
  },
  {
   "cell_type": "code",
   "execution_count": null,
   "metadata": {},
   "outputs": [],
   "source": []
  },
  {
   "cell_type": "code",
   "execution_count": null,
   "metadata": {},
   "outputs": [],
   "source": []
  },
  {
   "cell_type": "code",
   "execution_count": null,
   "metadata": {},
   "outputs": [],
   "source": []
  },
  {
   "cell_type": "code",
   "execution_count": null,
   "metadata": {},
   "outputs": [],
   "source": []
  },
  {
   "cell_type": "code",
   "execution_count": null,
   "metadata": {},
   "outputs": [],
   "source": []
  },
  {
   "cell_type": "code",
   "execution_count": null,
   "metadata": {},
   "outputs": [],
   "source": []
  }
 ],
 "metadata": {
  "kernelspec": {
   "display_name": "Python 3",
   "language": "python",
   "name": "python3"
  },
  "language_info": {
   "codemirror_mode": {
    "name": "ipython",
    "version": 3
   },
   "file_extension": ".py",
   "mimetype": "text/x-python",
   "name": "python",
   "nbconvert_exporter": "python",
   "pygments_lexer": "ipython3",
   "version": "3.7.3"
  }
 },
 "nbformat": 4,
 "nbformat_minor": 2
}
